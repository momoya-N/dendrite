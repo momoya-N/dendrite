{
 "cells": [
  {
   "cell_type": "code",
   "execution_count": 2,
   "metadata": {},
   "outputs": [],
   "source": [
    "import numpy as np\n",
    "import matplotlib.pyplot as plt\n",
    "import matplotlib.cm as cm\n",
    "import matplotlib.colors as colors\n",
    "from matplotlib.colors import Normalize \n",
    "import pandas as pd\n",
    "import glob\n",
    "import os\n",
    "import re\n",
    "from decimal import Decimal, ROUND_HALF_UP, ROUND_HALF_EVEN\n",
    "import csv\n",
    "import math\n",
    "import copy\n",
    "from scipy.optimize import curve_fit\n",
    "import scipy.stats as st\n",
    "import sys\n",
    "from tqdm import tqdm\n",
    "import cv2"
   ]
  },
  {
   "cell_type": "code",
   "execution_count": 2,
   "metadata": {},
   "outputs": [
    {
     "name": "stdout",
     "output_type": "stream",
     "text": [
      "((255.9861602783203, 255.97406005859375), (200.76470947265625, 300.1176452636719), 61.927513122558594)\n"
     ]
    }
   ],
   "source": [
    "img1=np.zeros((512,512),np.uint8)\n",
    "img2=np.zeros((512,512),np.uint8)\n",
    "# cv2.circle(img1,(256,256),100,(255,255,255),-1)\n",
    "cv2.ellipse(img1,((256,256),(200,300),60),(255,255,255),-1)\n",
    "cv2.circle(img2,(400,256),100,(255,255,255),-1)\n",
    "contours1,_=cv2.findContours(img1,cv2.RETR_TREE,cv2.CHAIN_APPROX_SIMPLE)\n",
    "contours2,_=cv2.findContours(img2,cv2.RETR_TREE,cv2.CHAIN_APPROX_SIMPLE)\n",
    "\n",
    "for i in range(0,len(contours1)):\n",
    "    cnt1=contours1[i]\n",
    "    c1x,c1y=cv2.moments(cnt1)['m10']/cv2.moments(cnt1)['m00'],cv2.moments(cnt1)['m01']/cv2.moments(cnt1)['m00']\n",
    "    x,y,w,h = cv2.boundingRect(cnt1)\n",
    "    img=cv2.cvtColor(img1,cv2.COLOR_GRAY2BGR)\n",
    "    cv2.rectangle(img,(x,y),(x+w,y+h),(255,255,0),2)\n",
    "    rect=cv2.minAreaRect(cnt1)\n",
    "    print(rect)\n",
    "    box=cv2.boxPoints(rect)\n",
    "    box=np.array(box,dtype=np.int32)\n",
    "    cv2.drawContours(img,[box],0,(255,0,255),2)\n",
    "    for j in range(0,len(contours2)):\n",
    "        cnt2=contours2[j]\n",
    "        points = [[int(point[0][0]), int(point[0][1])] for point in cnt2]\n",
    "        for k,pt in enumerate(points):\n",
    "            if cv2.pointPolygonTest(cnt1, pt, False) >= 0:\n",
    "                cv2.drawContours(img,[cnt1],0,(0,255,0),5)\n",
    "                cv2.drawContours(img,[cnt2],0,(0,0,255),5)\n",
    "                cv2.circle(img,(int(c1x),int(c1y)),5,(255,0,0),-1)\n",
    "                cv2.circle(img,pt,5,(255,0,0),-1)\n",
    "                break\n",
    "        else:\n",
    "            cv2.circle(img1,(256,256),100,(255,255,255),-1)\n",
    "            img=cv2.cvtColor(img1,cv2.COLOR_GRAY2BGR)\n",
    "            cv2.drawContours(img,[cnt1],0,(0,255,0),5)\n",
    "            cv2.drawContours(img,[cnt2],0,(0,0,255),5)\n",
    "\n",
    "cv2.imshow('img',img)\n",
    "cv2.waitKey(0)\n",
    "cv2.destroyAllWindows()\n"
   ]
  },
  {
   "cell_type": "code",
   "execution_count": null,
   "metadata": {},
   "outputs": [
    {
     "ename": "SyntaxError",
     "evalue": "invalid syntax (1743866839.py, line 20)",
     "output_type": "error",
     "traceback": [
      "\u001b[1;36m  Cell \u001b[1;32mIn[59], line 20\u001b[1;36m\u001b[0m\n\u001b[1;33m    if theta_min is None or theta_min>theta or :\u001b[0m\n\u001b[1;37m                                               ^\u001b[0m\n\u001b[1;31mSyntaxError\u001b[0m\u001b[1;31m:\u001b[0m invalid syntax\n"
     ]
    }
   ],
   "source": [
    "def cv_rtheta_to_xy(r,Theta):\n",
    "    X=r*np.cos(Theta)\n",
    "    Y=r*np.sin(Theta)\n",
    "    return X,Y\n",
    "\n",
    "def cv_xy_to_rtheta(X,Y):\n",
    "    R=np.sqrt(X**2+Y**2)\n",
    "    Theta=np.arctan2(Y,X)\n",
    "    return R,Theta\n",
    "\n",
    "r0=500\n",
    "x0,y0=256,800\n",
    "theta_min=None\n",
    "theta_max=None\n",
    "img=np.zeros((512,512),np.uint8)\n",
    "for x in range(0,512):\n",
    "    for y in range(0,512):\n",
    "        r,theta=cv_xy_to_rtheta(x-x0,y-y0)\n",
    "        if r<r0+np.sin(50*theta)*20:\n",
    "            if theta_min is None or theta_min>theta :\n",
    "                theta_min=theta\n",
    "            if theta_max is None or theta_max<theta :\n",
    "                theta_max=theta\n",
    "            img[y,x]=255\n",
    "\n",
    "contoures,_=cv2.findContours(img,cv2.RETR_TREE,cv2.CHAIN_APPROX_SIMPLE)\n",
    "img = cv2.cvtColor(img, cv2.COLOR_GRAY2BGR)\n",
    "for i in range(0,len(contoures)):\n",
    "    cnt=contoures[i]\n",
    "    cv2.drawContours(img,[cnt],0,(0,255,0),5)\n",
    "cv2.imshow('img',img)\n",
    "cv2.waitKey(0)\n",
    "cv2.destroyAllWindows()\n"
   ]
  },
  {
   "cell_type": "code",
   "execution_count": null,
   "metadata": {},
   "outputs": [],
   "source": []
  }
 ],
 "metadata": {
  "kernelspec": {
   "display_name": "Python 3",
   "language": "python",
   "name": "python3"
  },
  "language_info": {
   "codemirror_mode": {
    "name": "ipython",
    "version": 3
   },
   "file_extension": ".py",
   "mimetype": "text/x-python",
   "name": "python",
   "nbconvert_exporter": "python",
   "pygments_lexer": "ipython3",
   "version": "3.13.0"
  }
 },
 "nbformat": 4,
 "nbformat_minor": 2
}
