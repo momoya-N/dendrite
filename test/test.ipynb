{
 "cells": [
  {
   "cell_type": "code",
   "execution_count": 1,
   "metadata": {},
   "outputs": [],
   "source": [
    "import numpy as np\n",
    "import matplotlib.pyplot as plt\n",
    "import matplotlib.cm as cm\n",
    "import matplotlib.colors as colors\n",
    "from matplotlib.colors import Normalize \n",
    "import pandas as pd\n",
    "import glob\n",
    "import os\n",
    "import re\n",
    "from decimal import Decimal, ROUND_HALF_UP, ROUND_HALF_EVEN\n",
    "import csv\n",
    "import math\n",
    "import copy\n",
    "from scipy.optimize import curve_fit\n",
    "import scipy.stats as st\n",
    "import sys"
   ]
  },
  {
   "cell_type": "code",
   "execution_count": 15,
   "metadata": {},
   "outputs": [
    {
     "name": "stdout",
     "output_type": "stream",
     "text": [
      "4\n"
     ]
    }
   ],
   "source": [
    "class Particle:\n",
    "    def __init__(self, x=0, y=0, z=0, track_nr=0, in_track=False):\n",
    "        self.x = x\n",
    "        self.y = y\n",
    "        self.z = z\n",
    "        self.track_nr = track_nr\n",
    "        self.in_track = in_track\n",
    "\n",
    "    def distance(self, p):\n",
    "        return math.sqrt((self.x - p.x) ** 2 + (self.y - p.y) ** 2)\n",
    "\n",
    "temp=[]\n",
    "temp.append(Particle(1,2,3,4))\n",
    "print(temp[0].track_nr)"
   ]
  },
  {
   "cell_type": "code",
   "execution_count": 4,
   "metadata": {},
   "outputs": [
    {
     "name": "stdout",
     "output_type": "stream",
     "text": [
      "4 3\n",
      "4 2\n",
      "4 1\n",
      "4 0\n",
      "3 2\n",
      "3 1\n",
      "3 0\n",
      "2 1\n",
      "2 0\n",
      "1 0\n"
     ]
    }
   ],
   "source": [
    "for i in reversed(range(5)):\n",
    "    for j in reversed(range(i)):\n",
    "        print(i,j)"
   ]
  },
  {
   "cell_type": "code",
   "execution_count": null,
   "metadata": {},
   "outputs": [],
   "source": []
  }
 ],
 "metadata": {
  "kernelspec": {
   "display_name": "Python 3",
   "language": "python",
   "name": "python3"
  },
  "language_info": {
   "codemirror_mode": {
    "name": "ipython",
    "version": 3
   },
   "file_extension": ".py",
   "mimetype": "text/x-python",
   "name": "python",
   "nbconvert_exporter": "python",
   "pygments_lexer": "ipython3",
   "version": "3.12.0"
  }
 },
 "nbformat": 4,
 "nbformat_minor": 2
}
