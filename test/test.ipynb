{
 "cells": [
  {
   "cell_type": "code",
   "execution_count": 77,
   "metadata": {},
   "outputs": [],
   "source": [
    "import numpy as np\n",
    "import matplotlib.pyplot as plt\n",
    "import matplotlib.cm as cm\n",
    "import matplotlib.colors as colors\n",
    "from matplotlib.colors import Normalize \n",
    "import pandas as pd\n",
    "import glob\n",
    "import os\n",
    "import re\n",
    "from decimal import Decimal, ROUND_HALF_UP, ROUND_HALF_EVEN\n",
    "import csv\n",
    "import math\n",
    "import copy\n",
    "from scipy.optimize import curve_fit\n",
    "import scipy.stats as st\n",
    "import sys"
   ]
  },
  {
   "cell_type": "code",
   "execution_count": 80,
   "metadata": {},
   "outputs": [
    {
     "name": "stdout",
     "output_type": "stream",
     "text": [
      "プレーン クッキー が焼けました\n",
      "チョコ クッキー が焼けました\n",
      "チョコチップ クッキー が焼けました\n"
     ]
    }
   ],
   "source": [
    "class Cookie:\n",
    "    # クラス変数を設定する\n",
    "    name = \"クッキー\"\n",
    "    # 初期化メソッドでインスタンス変数を定義する\n",
    "    def __init__(self, taste):\n",
    "        self.taste = taste\n",
    "    # メソッドを定義する\n",
    "    def bake(self):\n",
    "        print(self.taste, self.name, \"が焼けました\")\n",
    "\n",
    "# インスタンスを生成する\n",
    "cookie1 = Cookie(\"プレーン\")\n",
    "cookie2 = Cookie(\"チョコ\")\n",
    "cookie3 = Cookie(\"チョコチップ\")\n",
    "\n",
    "# インスタンスを指定してメソッドを呼び出す\n",
    "cookie1.bake()\n",
    "cookie2.bake()\n",
    "cookie3.bake()\n"
   ]
  },
  {
   "cell_type": "code",
   "execution_count": 3,
   "metadata": {},
   "outputs": [
    {
     "data": {
      "text/plain": [
       "333.0"
      ]
     },
     "execution_count": 3,
     "metadata": {},
     "output_type": "execute_result"
    }
   ],
   "source": [
    "1000.00//3\n"
   ]
  },
  {
   "cell_type": "code",
   "execution_count": null,
   "metadata": {},
   "outputs": [],
   "source": []
  }
 ],
 "metadata": {
  "kernelspec": {
   "display_name": "Python 3",
   "language": "python",
   "name": "python3"
  },
  "language_info": {
   "codemirror_mode": {
    "name": "ipython",
    "version": 3
   },
   "file_extension": ".py",
   "mimetype": "text/x-python",
   "name": "python",
   "nbconvert_exporter": "python",
   "pygments_lexer": "ipython3",
   "version": "3.12.0"
  }
 },
 "nbformat": 4,
 "nbformat_minor": 2
}
